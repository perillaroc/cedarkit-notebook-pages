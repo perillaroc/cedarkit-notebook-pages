{
 "cells": [
  {
   "cell_type": "markdown",
   "metadata": {},
   "source": [
    "# 开始使用\n",
    "\n",
    "本文介绍如何使用 cedarkit 工具栈为 CMA-MESO 数据绘制中国区域 2 米温度填充图。"
   ]
  },
  {
   "cell_type": "markdown",
   "metadata": {},
   "source": [
    "首先加载需要使用的包，包括：\n",
    "\n",
    "- 数据结构相关：pandas\n",
    "- 数据准备工具库：reki\n",
    "- 绘图工具库：cedarkit.maps\n",
    "    - 绘图板：`Panel`\n",
    "    - 底图布局：`EastAsiaMapDomain`\n",
    "    - 填充图样式：`ContourStyle`\n",
    "    - 颜色表：`get_ncl_colormap`\n",
    "    - 地图包：`set_default_map_package`"
   ]
  },
  {
   "cell_type": "code",
   "execution_count": null,
   "metadata": {},
   "outputs": [],
   "source": [
    "import pandas as pd\n",
    "\n",
    "from reki.data_finder import find_local_file\n",
    "from reki.format.grib.eccodes import load_field_from_file\n",
    "\n",
    "from cedarkit.maps.style import ContourStyle\n",
    "from cedarkit.maps.chart import Panel\n",
    "from cedarkit.maps.domains import EastAsiaMapDomain\n",
    "from cedarkit.maps.colormap import get_ncl_colormap\n",
    "from cedarkit.maps.map import set_default_map_package"
   ]
  },
  {
   "cell_type": "markdown",
   "metadata": {},
   "source": [
    "设置绘图的数据参数。绘制 CMA-MESO 2024 年 4 月 1 日 00 时次 024 时效的 2 米温度场。"
   ]
  },
  {
   "cell_type": "code",
   "execution_count": null,
   "metadata": {},
   "outputs": [],
   "source": [
    "system_name = \"CMA-MESO\"\n",
    "data_type = \"cma_meso_3km/grib2/orig\"\n",
    "start_time = pd.to_datetime(\"2024-04-01 00:00:00\")\n",
    "forecast_time = pd.to_timedelta(\"24h\")"
   ]
  },
  {
   "cell_type": "markdown",
   "metadata": {},
   "source": [
    "## 加载数据"
   ]
  },
  {
   "cell_type": "markdown",
   "metadata": {},
   "source": [
    "获取 GRIB2 文件目录"
   ]
  },
  {
   "cell_type": "code",
   "execution_count": null,
   "metadata": {},
   "outputs": [],
   "source": [
    "file_path = find_local_file(\n",
    "    data_type,\n",
    "    start_time=start_time,\n",
    "    forecast_time=forecast_time,\n",
    ")\n",
    "file_path"
   ]
  },
  {
   "cell_type": "markdown",
   "metadata": {},
   "source": [
    "加载 2 米温度场。这里直接使用 ecCodes 内置的要素名 `2t`"
   ]
  },
  {
   "cell_type": "code",
   "execution_count": null,
   "metadata": {},
   "outputs": [],
   "source": [
    "t_2m_field = load_field_from_file(\n",
    "    file_path,\n",
    "    parameter=\"2t\",\n",
    ") - 273.15\n",
    "t_2m_field"
   ]
  },
  {
   "cell_type": "markdown",
   "metadata": {},
   "source": [
    "## 配置\n",
    "\n",
    "定义填充图层次"
   ]
  },
  {
   "cell_type": "code",
   "execution_count": null,
   "metadata": {},
   "outputs": [],
   "source": [
    "t_2m_level = [-24, -20, -16, -12, -8, -4, 0, 4, 8, 12, 16, 20, 24, 28, 32]"
   ]
  },
  {
   "cell_type": "markdown",
   "metadata": {},
   "source": [
    "定义填充图颜色表。色表来自 cedarkit-maps 内置的 NCL 色表文件 BlAqGrYeOrReVi200.rgb。"
   ]
  },
  {
   "cell_type": "code",
   "execution_count": null,
   "metadata": {},
   "outputs": [],
   "source": [
    "color_index = [2, 12, 22, 32, 42, 52, 62, 72, 82, 92, 102, 112, 122, 132, 142, 152]\n",
    "t_2m_color_map = get_ncl_colormap(\"BlAqGrYeOrReVi200\", index=color_index)"
   ]
  },
  {
   "cell_type": "markdown",
   "metadata": {},
   "source": [
    "定义填充图样式"
   ]
  },
  {
   "cell_type": "code",
   "execution_count": null,
   "metadata": {},
   "outputs": [],
   "source": [
    "t_2m_style = ContourStyle(\n",
    "    colors=t_2m_color_map,\n",
    "    levels=t_2m_level,\n",
    "    fill=True,\n",
    ")"
   ]
  },
  {
   "cell_type": "markdown",
   "metadata": {},
   "source": [
    "使用 CEMC 地图包\n",
    "\n",
    "> 注：如果没有安装 cemc-meda-data 包，可以注释改行代码，直接使用默认地图包"
   ]
  },
  {
   "cell_type": "code",
   "execution_count": null,
   "metadata": {},
   "outputs": [],
   "source": [
    "set_default_map_package(\"cedarkit.maps.map.cemc\")"
   ]
  },
  {
   "cell_type": "markdown",
   "metadata": {},
   "source": [
    "## 绘图\n",
    "\n",
    "创建中国区域底图布局"
   ]
  },
  {
   "cell_type": "code",
   "execution_count": null,
   "metadata": {},
   "outputs": [],
   "source": [
    "domain = EastAsiaMapDomain()"
   ]
  },
  {
   "cell_type": "markdown",
   "metadata": {},
   "source": [
    "创建绘图板，绘制等值线，设置标题，添加颜色条"
   ]
  },
  {
   "cell_type": "code",
   "execution_count": null,
   "metadata": {},
   "outputs": [],
   "source": [
    "panel = Panel(domain=domain)\n",
    "panel.plot(t_2m_field, style=t_2m_style)\n",
    "domain.set_title(\n",
    "    panel=panel,\n",
    "    graph_name=\"2m Temperature (C)\",\n",
    "    system_name=system_name,\n",
    "    start_time=start_time,\n",
    "    forecast_time=forecast_time,\n",
    ")\n",
    "domain.add_colorbar(panel=panel, style=t_2m_style)\n",
    "panel.show()"
   ]
  },
  {
   "cell_type": "code",
   "execution_count": null,
   "metadata": {},
   "outputs": [],
   "source": []
  }
 ],
 "metadata": {
  "kernelspec": {
   "display_name": "Python 3",
   "language": "python",
   "name": "python3"
  },
  "language_info": {
   "codemirror_mode": {
    "name": "ipython",
    "version": 3
   },
   "file_extension": ".py",
   "mimetype": "text/x-python",
   "name": "python",
   "nbconvert_exporter": "python",
   "pygments_lexer": "ipython3",
   "version": "3.12.2"
  }
 },
 "nbformat": 4,
 "nbformat_minor": 2
}
