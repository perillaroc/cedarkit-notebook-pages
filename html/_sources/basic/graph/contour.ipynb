{
 "cells": [
  {
   "cell_type": "markdown",
   "metadata": {},
   "source": [
    "# 等值线\n",
    "\n",
    "本节介绍如何使用 cedarkit-maps 绘制 500hPa 位势高度等值线图。"
   ]
  },
  {
   "cell_type": "markdown",
   "metadata": {},
   "source": [
    "首先导入需要使用的包。包括：\n",
    "\n",
    "- 数据结构：numpy, pandas\n",
    "- cedarkit 工具套件\n",
    "    - 数据准备：reki\n",
    "        - 数据查找函数： `find_local_file`\n",
    "        - GRIB2文件要素加载函数：`load_field_from_file`\n",
    "    - 气象可视化：cedarkit.maps\n",
    "        - 绘图板：`Panel`\n",
    "        - 底图布局：`EastAsiaMapDomain`\n",
    "        - 绘图样式：`ContourStyle`, `ContourLabelStyle`"
   ]
  },
  {
   "cell_type": "code",
   "execution_count": null,
   "metadata": {},
   "outputs": [],
   "source": [
    "import numpy as np\n",
    "import pandas as pd\n",
    "\n",
    "from reki.data_finder import find_local_file\n",
    "from reki.format.grib.eccodes import load_field_from_file\n",
    "\n",
    "from cedarkit.maps.style import ContourStyle, ContourLabelStyle\n",
    "from cedarkit.maps.chart import Panel\n",
    "from cedarkit.maps.domains import EastAsiaMapDomain"
   ]
  },
  {
   "cell_type": "markdown",
   "metadata": {},
   "source": [
    "设置绘图的数据参数，使用 CMA-GFS 2024 年 4 月 1 日 00 时次 024 时效数据。"
   ]
  },
  {
   "cell_type": "code",
   "execution_count": null,
   "metadata": {},
   "outputs": [],
   "source": [
    "system_name = \"CMA-GFS\"\n",
    "data_type = \"cma_gfs_gmf/grib2/orig\"\n",
    "start_time = pd.to_datetime(\"2024-04-01 00:00:00\")\n",
    "forecast_time = pd.to_timedelta(\"24h\")"
   ]
  },
  {
   "cell_type": "markdown",
   "metadata": {},
   "source": [
    "## 加载数据\n",
    "\n",
    "获取 GRIB2 数据路径"
   ]
  },
  {
   "cell_type": "code",
   "execution_count": null,
   "metadata": {},
   "outputs": [],
   "source": [
    "file_path = find_local_file(\n",
    "    data_type,\n",
    "    start_time=start_time,\n",
    "    forecast_time=forecast_time,\n",
    ")\n",
    "file_path"
   ]
  },
  {
   "cell_type": "markdown",
   "metadata": {},
   "source": [
    "加载 500 hPa 位势高度场。位势高度在 ecCodes 的内置要素名为 `gh`"
   ]
  },
  {
   "cell_type": "code",
   "execution_count": null,
   "metadata": {},
   "outputs": [],
   "source": [
    "h_500_field = load_field_from_file(\n",
    "    file_path,\n",
    "    parameter=\"gh\",\n",
    "    level_type=\"pl\",\n",
    "    level=500\n",
    ") / 10.0\n",
    "h_500_field"
   ]
  },
  {
   "cell_type": "markdown",
   "metadata": {},
   "source": [
    "## 配置\n",
    "\n",
    "定义等值线层次"
   ]
  },
  {
   "cell_type": "code",
   "execution_count": null,
   "metadata": {},
   "outputs": [],
   "source": [
    "h_contour_lev = np.linspace(500, 588, endpoint=True, num=23)\n",
    "h_contour_lev"
   ]
  },
  {
   "cell_type": "markdown",
   "metadata": {},
   "source": [
    "定义等值线颜色"
   ]
  },
  {
   "cell_type": "code",
   "execution_count": null,
   "metadata": {},
   "outputs": [],
   "source": [
    "h_contour_colos = \"blue\""
   ]
  },
  {
   "cell_type": "markdown",
   "metadata": {},
   "source": [
    "定义线宽"
   ]
  },
  {
   "cell_type": "code",
   "execution_count": null,
   "metadata": {},
   "outputs": [],
   "source": [
    "h_linewidths = np.where(h_contour_lev == 588, 1.4, 0.7)"
   ]
  },
  {
   "cell_type": "markdown",
   "metadata": {},
   "source": [
    "定义等值线样式 (`ContourStyle`)，包括等值线标签样式 (`ContourLabelStyle`)"
   ]
  },
  {
   "cell_type": "code",
   "execution_count": null,
   "metadata": {},
   "outputs": [],
   "source": [
    "hgt_style = ContourStyle(\n",
    "    levels=h_contour_lev,\n",
    "    colors=\"blue\",\n",
    "    linewidths=h_linewidths,\n",
    "    label=True,\n",
    "    label_style=ContourLabelStyle(\n",
    "        colors=\"black\",\n",
    "        fontsize=8,\n",
    "    )\n",
    ")"
   ]
  },
  {
   "cell_type": "markdown",
   "metadata": {},
   "source": [
    "## 绘制\n",
    "\n",
    "创建中国区域底图布局"
   ]
  },
  {
   "cell_type": "code",
   "execution_count": null,
   "metadata": {},
   "outputs": [],
   "source": [
    "domain = EastAsiaMapDomain()"
   ]
  },
  {
   "cell_type": "markdown",
   "metadata": {},
   "source": [
    "绘制等值线，设置标题"
   ]
  },
  {
   "cell_type": "code",
   "execution_count": null,
   "metadata": {},
   "outputs": [],
   "source": [
    "panel = Panel(domain=domain)\n",
    "panel.plot(h_500_field, style=hgt_style)\n",
    "\n",
    "domain.set_title(\n",
    "    panel=panel,\n",
    "    graph_name=\"500 hPa Height(10gpm)\",\n",
    "    system_name=system_name,\n",
    "    start_time=start_time,\n",
    "    forecast_time=forecast_time,\n",
    ")\n",
    "panel.show()"
   ]
  },
  {
   "cell_type": "code",
   "execution_count": null,
   "metadata": {},
   "outputs": [],
   "source": []
  }
 ],
 "metadata": {
  "kernelspec": {
   "display_name": "Python 3",
   "language": "python",
   "name": "python3"
  },
  "language_info": {
   "codemirror_mode": {
    "name": "ipython",
    "version": 3
   },
   "file_extension": ".py",
   "mimetype": "text/x-python",
   "name": "python",
   "nbconvert_exporter": "python",
   "pygments_lexer": "ipython3",
   "version": "3.12.2"
  }
 },
 "nbformat": 4,
 "nbformat_minor": 2
}
