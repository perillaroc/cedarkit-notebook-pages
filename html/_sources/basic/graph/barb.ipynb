{
 "cells": [
  {
   "cell_type": "markdown",
   "metadata": {},
   "source": [
    "# 风场图\n",
    "\n",
    "本节介绍如何使用 cedarkit-maps 绘制 850 hPa 风场图。"
   ]
  },
  {
   "cell_type": "markdown",
   "metadata": {},
   "source": [
    "首先导入需要使用的包。包括：\n",
    "\n",
    "- 数据结构：numpy, pandas\n",
    "- 可视化：matplotlib\n",
    "- cedarkit 工具套件\n",
    "    - 数据准备：reki\n",
    "        - 数据查找函数： `find_local_file`\n",
    "        - GRIB2文件要素加载函数：`load_field_from_file`\n",
    "    - 气象可视化：cedarkit.maps\n",
    "        - 绘图板：`Panel`\n",
    "        - 底图布局：`EastAsiaMapDomain`\n",
    "        - 绘图样式：`BarbStyle`"
   ]
  },
  {
   "cell_type": "code",
   "execution_count": null,
   "metadata": {},
   "outputs": [],
   "source": [
    "import pandas as pd\n",
    "\n",
    "from reki.data_finder import find_local_file\n",
    "from reki.format.grib.eccodes import load_field_from_file\n",
    "\n",
    "from cedarkit.maps.style import BarbStyle\n",
    "from cedarkit.maps.chart import Panel\n",
    "from cedarkit.maps.domains import EastAsiaMapDomain"
   ]
  },
  {
   "cell_type": "markdown",
   "metadata": {},
   "source": [
    "设置绘图的数据参数，使用 CMA-GFS 2024 年 4 月 1 日 00 时次 024 时效数据。"
   ]
  },
  {
   "cell_type": "code",
   "execution_count": null,
   "metadata": {},
   "outputs": [],
   "source": [
    "system_name = \"CMA-GFS\"\n",
    "data_type = \"cma_gfs_gmf/grib2/orig\"\n",
    "start_time = pd.to_datetime(\"2024-04-01 00:00:00\")\n",
    "forecast_time = pd.to_timedelta(\"24h\")"
   ]
  },
  {
   "cell_type": "markdown",
   "metadata": {},
   "source": [
    "## 加载数据\n",
    "\n",
    "获取 GRIB2 数据路径"
   ]
  },
  {
   "cell_type": "code",
   "execution_count": null,
   "metadata": {},
   "outputs": [],
   "source": [
    "file_path = find_local_file(\n",
    "    data_type,\n",
    "    start_time=start_time,\n",
    "    forecast_time=forecast_time,\n",
    ")\n",
    "file_path"
   ]
  },
  {
   "cell_type": "markdown",
   "metadata": {},
   "source": [
    "加载 850 hPa 风场。风场在 ecCodes 的内置要素名为 `u` 和 `v`"
   ]
  },
  {
   "cell_type": "code",
   "execution_count": null,
   "metadata": {},
   "outputs": [],
   "source": [
    "u_850_field = load_field_from_file(\n",
    "    file_path,\n",
    "    parameter=\"u\",\n",
    "    level_type=\"pl\",\n",
    "    level=850\n",
    ")\n",
    "v_850_field = load_field_from_file(\n",
    "    file_path,\n",
    "    parameter=\"v\",\n",
    "    level_type=\"pl\",\n",
    "    level=850\n",
    ")\n",
    "v_850_field"
   ]
  },
  {
   "cell_type": "markdown",
   "metadata": {},
   "source": [
    "## 配置\n",
    "\n",
    "定义风场图样式 (`BarbStyle`)"
   ]
  },
  {
   "cell_type": "code",
   "execution_count": null,
   "metadata": {},
   "outputs": [],
   "source": [
    "wind_barb_style = BarbStyle(\n",
    "    barbcolor=\"red\",\n",
    "    flagcolor=\"red\",\n",
    "    linewidth=0.3,\n",
    ")"
   ]
  },
  {
   "cell_type": "markdown",
   "metadata": {},
   "source": [
    "## 绘制\n",
    "\n",
    "创建中国区域底图布局"
   ]
  },
  {
   "cell_type": "code",
   "execution_count": null,
   "metadata": {},
   "outputs": [],
   "source": [
    "domain = EastAsiaMapDomain()"
   ]
  },
  {
   "cell_type": "markdown",
   "metadata": {},
   "source": [
    "绘图风场图，设置标题。\n",
    "\n",
    "> 注：这里将风场稀疏化后再绘图，并只在主区域（第 1 层）绘图，即 `layer=[0]`"
   ]
  },
  {
   "cell_type": "code",
   "execution_count": null,
   "metadata": {},
   "outputs": [],
   "source": [
    "panel = Panel(domain=domain)\n",
    "panel.plot([[u_850_field[::14, ::14], v_850_field[::14, ::14]]], style=wind_barb_style, layer=[0])\n",
    "\n",
    "domain.set_title(\n",
    "    panel=panel,\n",
    "    graph_name=\"850 hPa WIND (m/s) windbarb\",\n",
    "    system_name=system_name,\n",
    "    start_time=start_time,\n",
    "    forecast_time=forecast_time,\n",
    ")"
   ]
  },
  {
   "cell_type": "code",
   "execution_count": null,
   "metadata": {},
   "outputs": [],
   "source": []
  }
 ],
 "metadata": {
  "kernelspec": {
   "display_name": "Python 3",
   "language": "python",
   "name": "python3"
  },
  "language_info": {
   "codemirror_mode": {
    "name": "ipython",
    "version": 3
   },
   "file_extension": ".py",
   "mimetype": "text/x-python",
   "name": "python",
   "nbconvert_exporter": "python",
   "pygments_lexer": "ipython3",
   "version": "3.12.2"
  }
 },
 "nbformat": 4,
 "nbformat_minor": 2
}
