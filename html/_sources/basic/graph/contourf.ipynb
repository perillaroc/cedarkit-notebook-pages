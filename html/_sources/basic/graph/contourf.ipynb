{
 "cells": [
  {
   "cell_type": "markdown",
   "metadata": {},
   "source": [
    "# 填充图\n",
    "\n",
    "本节介绍如何使用 cedarkit-maps 绘制 850 hPa 风速填充图。"
   ]
  },
  {
   "cell_type": "markdown",
   "metadata": {},
   "source": [
    "首先导入需要使用的包。包括：\n",
    "\n",
    "- 数据结构：numpy, pandas\n",
    "- cedarkit 工具套件\n",
    "    - 数据准备：reki\n",
    "        - 数据查找函数： `find_local_file`\n",
    "        - GRIB2文件要素加载函数：`load_field_from_file`\n",
    "    - 气象可视化：cedarkit.maps\n",
    "        - 绘图板：`Panel`\n",
    "        - 底图布局：`EastAsiaMapDomain`\n",
    "        - 绘图样式：`ContourStyle`\n",
    "        - 颜色表加载函数：`get_ncl_colormap`"
   ]
  },
  {
   "cell_type": "code",
   "execution_count": null,
   "metadata": {},
   "outputs": [],
   "source": [
    "import numpy as np\n",
    "import pandas as pd\n",
    "\n",
    "from reki.data_finder import find_local_file\n",
    "from reki.format.grib.eccodes import load_field_from_file\n",
    "\n",
    "from cedarkit.maps.style import ContourStyle\n",
    "from cedarkit.maps.chart import Panel\n",
    "from cedarkit.maps.domains import EastAsiaMapDomain\n",
    "from cedarkit.maps.colormap import get_ncl_colormap"
   ]
  },
  {
   "cell_type": "markdown",
   "metadata": {},
   "source": [
    "设置绘图的数据参数，使用 CMA-GFS 2024 年 4 月 1 日 00 时次 024 数据。"
   ]
  },
  {
   "cell_type": "code",
   "execution_count": null,
   "metadata": {},
   "outputs": [],
   "source": [
    "system_name = \"CMA-GFS\"\n",
    "data_type = \"cma_gfs_gmf/grib2/orig\"\n",
    "start_time = pd.to_datetime(\"2024-04-01 00:00:00\")\n",
    "forecast_time = pd.to_timedelta(\"24h\")"
   ]
  },
  {
   "cell_type": "markdown",
   "metadata": {},
   "source": [
    "## 加载数据\n",
    "\n",
    "获取 GRIB2 数据路径"
   ]
  },
  {
   "cell_type": "code",
   "execution_count": null,
   "metadata": {},
   "outputs": [],
   "source": [
    "file_path = find_local_file(\n",
    "    data_type,\n",
    "    start_time=start_time,\n",
    "    forecast_time=forecast_time,\n",
    ")\n",
    "file_path"
   ]
  },
  {
   "cell_type": "markdown",
   "metadata": {},
   "source": [
    "加载 850 hPa 风场。风场在 ecCodes 的内置要素名为 `u` 和 `v`"
   ]
  },
  {
   "cell_type": "code",
   "execution_count": null,
   "metadata": {},
   "outputs": [],
   "source": [
    "u_850_field = load_field_from_file(\n",
    "    file_path,\n",
    "    parameter=\"u\",\n",
    "    level_type=\"pl\",\n",
    "    level=850\n",
    ")\n",
    "v_850_field = load_field_from_file(\n",
    "    file_path,\n",
    "    parameter=\"v\",\n",
    "    level_type=\"pl\",\n",
    "    level=850\n",
    ")\n",
    "u_850_field"
   ]
  },
  {
   "cell_type": "markdown",
   "metadata": {},
   "source": [
    "计算得到风速场"
   ]
  },
  {
   "cell_type": "code",
   "execution_count": null,
   "metadata": {},
   "outputs": [],
   "source": [
    "wind_speed_850_field = np.sqrt(u_850_field ** 2 + v_850_field ** 2)\n",
    "wind_speed_850_field"
   ]
  },
  {
   "cell_type": "markdown",
   "metadata": {},
   "source": [
    "## 配置\n",
    "\n",
    "定义填充图层次"
   ]
  },
  {
   "cell_type": "code",
   "execution_count": null,
   "metadata": {},
   "outputs": [],
   "source": [
    "wind_speed_contour_lev = np.arange(8, 26, 2)"
   ]
  },
  {
   "cell_type": "markdown",
   "metadata": {},
   "source": [
    "定义填充图色表"
   ]
  },
  {
   "cell_type": "code",
   "execution_count": null,
   "metadata": {},
   "outputs": [],
   "source": [
    "color_index = np.arange(90, 236, 15) - 2\n",
    "color_index[0] = -1\n",
    "wind_speed_color_map = get_ncl_colormap(\n",
    "    \"rainbow+white+gray\", index=color_index\n",
    ")"
   ]
  },
  {
   "cell_type": "markdown",
   "metadata": {},
   "source": [
    "定义填充图样式 (`ContourStyle`)"
   ]
  },
  {
   "cell_type": "code",
   "execution_count": null,
   "metadata": {},
   "outputs": [],
   "source": [
    "wind_speed_style = ContourStyle(\n",
    "    colors=wind_speed_color_map,\n",
    "    levels=wind_speed_contour_lev,\n",
    "    fill=True,\n",
    ")"
   ]
  },
  {
   "cell_type": "markdown",
   "metadata": {},
   "source": [
    "## 绘制\n",
    "\n",
    "创建中国区域底图布局"
   ]
  },
  {
   "cell_type": "code",
   "execution_count": null,
   "metadata": {},
   "outputs": [],
   "source": [
    "domain = EastAsiaMapDomain()"
   ]
  },
  {
   "cell_type": "markdown",
   "metadata": {},
   "source": [
    "绘制填充图，设置标题和颜色条"
   ]
  },
  {
   "cell_type": "code",
   "execution_count": null,
   "metadata": {},
   "outputs": [],
   "source": [
    "panel = Panel(domain=domain)\n",
    "panel.plot(wind_speed_850_field, style=wind_speed_style)\n",
    "\n",
    "domain.set_title(\n",
    "    panel=panel,\n",
    "    graph_name=\"850 hPa WIND (m/s) shadow\",\n",
    "    system_name=system_name,\n",
    "    start_time=start_time,\n",
    "    forecast_time=forecast_time,\n",
    ")\n",
    "domain.add_colorbar(panel=panel, style=wind_speed_style)\n",
    "panel.show()"
   ]
  },
  {
   "cell_type": "code",
   "execution_count": null,
   "metadata": {},
   "outputs": [],
   "source": []
  }
 ],
 "metadata": {
  "kernelspec": {
   "display_name": "Python 3",
   "language": "python",
   "name": "python3"
  },
  "language_info": {
   "codemirror_mode": {
    "name": "ipython",
    "version": 3
   },
   "file_extension": ".py",
   "mimetype": "text/x-python",
   "name": "python",
   "nbconvert_exporter": "python",
   "pygments_lexer": "ipython3",
   "version": "3.12.2"
  }
 },
 "nbformat": 4,
 "nbformat_minor": 2
}
